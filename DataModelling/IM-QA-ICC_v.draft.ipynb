{
 "cells": [
  {
   "cell_type": "markdown",
   "metadata": {},
   "source": [
    "# Incident Management - Quality Analytics\n",
    "## Incident Closure Checking\n",
    "\n",
    "Version: Draft\n",
    "\n",
    "File: IM-QA-ICC_v.draft.ipynb"
   ]
  },
  {
   "cell_type": "code",
   "execution_count": 1,
   "metadata": {},
   "outputs": [],
   "source": [
    "# Library Import\n",
    "import pandas as pd\n",
    "import numpy as np\n",
    "import seaborn as sns\n",
    "import matplotlib.pyplot as plt\n",
    "from matplotlib.colors import LinearSegmentedColormap\n",
    "from win32com.client import Dispatch\n",
    "import base64\n",
    "from datetime import datetime \n",
    "import os\n"
   ]
  },
  {
   "cell_type": "code",
   "execution_count": 2,
   "metadata": {},
   "outputs": [],
   "source": [
    "# Load the dataset from a CSV file.\n",
    "df_sideA = pd.read_csv(r'C:/DevProjects/DHL/IM_DataAnalysisReport/src/data/incident_QA_Side-A.csv')\n",
    "df_sideB = pd.read_csv(r'C:/DevProjects/DHL/IM_DataAnalysisReport/src/data/incident_QA_Side-B.csv')\n"
   ]
  },
  {
   "cell_type": "code",
   "execution_count": 3,
   "metadata": {},
   "outputs": [
    {
     "name": "stdout",
     "output_type": "stream",
     "text": [
      "incident_QA_Side-A \n",
      " Lista de Colunas com tipos: \n",
      " number                          object\n",
      "caller_id                       object\n",
      "u_incident_type                 object\n",
      "impact                          object\n",
      "short_description               object\n",
      "u_impacted_area                 object\n",
      "u_impacted_business_unit        object\n",
      "assignment_group                object\n",
      "assigned_to                     object\n",
      "assigned_to.email               object\n",
      "assigned_to.manager             object\n",
      "assigned_to.manager.email       object\n",
      "u_site                          object\n",
      "u_reporting_level               object\n",
      "incident_state                  object\n",
      "u_service                       object\n",
      "u_resolution_sla.percentage    float64\n",
      "u_sla_contract                  object\n",
      "opened_at                       object\n",
      "u_accepted_at                   object\n",
      "sys_updated_on                  object\n",
      "u_target_resolution_time        object\n",
      "cmdb_ci                         object\n",
      "cmdb_ci.u_folder                object\n",
      "cmdb_ci.category                object\n",
      "cmdb_ci.vendor                  object\n",
      "cmdb_ci.model_id                object\n",
      "cmdb_ci.serial_number           object\n",
      "close_code                      object\n",
      "close_notes                     object\n",
      "reopen_count                     int64\n",
      "u_spl_closure_code              object\n",
      "reassignment_count               int64\n",
      "u_reassign_reason               object\n",
      "u_vendors                       object\n",
      "dtype: object\n"
     ]
    }
   ],
   "source": [
    "# Print the list of columns in the dataframe\n",
    "print(f'incident_QA_Side-A \\n Lista de Colunas com tipos: \\n {df_sideA.dtypes}')"
   ]
  },
  {
   "cell_type": "code",
   "execution_count": 4,
   "metadata": {},
   "outputs": [
    {
     "name": "stdout",
     "output_type": "stream",
     "text": [
      "incident_QA_Side-B \n",
      " Lista de Colunas com tipos: \n",
      " number                         object\n",
      "caller_id                      object\n",
      "u_incident_type                object\n",
      "impact                         object\n",
      "short_description              object\n",
      "u_impacted_area                object\n",
      "u_impacted_business_unit       object\n",
      "assignment_group               object\n",
      "assigned_to                    object\n",
      "assigned_to.email              object\n",
      "assigned_to.manager            object\n",
      "assigned_to.manager.email      object\n",
      "u_site                         object\n",
      "u_reporting_level              object\n",
      "incident_state                 object\n",
      "u_service                      object\n",
      "u_resolution_sla.percentage    object\n",
      "u_sla_contract                 object\n",
      "opened_at                      object\n",
      "u_accepted_at                  object\n",
      "sys_updated_on                 object\n",
      "u_target_resolution_time       object\n",
      "cmdb_ci                        object\n",
      "cmdb_ci.u_folder               object\n",
      "cmdb_ci.category               object\n",
      "cmdb_ci.vendor                 object\n",
      "cmdb_ci.model_id               object\n",
      "cmdb_ci.serial_number          object\n",
      "close_code                     object\n",
      "close_notes                    object\n",
      "reopen_count                   object\n",
      "u_spl_closure_code             object\n",
      "reassignment_count             object\n",
      "u_reassign_reason              object\n",
      "u_vendors                      object\n",
      "dtype: object\n"
     ]
    }
   ],
   "source": [
    "# Print the list of columns in the dataframe\n",
    "print(f'incident_QA_Side-B \\n Lista de Colunas com tipos: \\n {df_sideB.dtypes}')\n"
   ]
  },
  {
   "cell_type": "code",
   "execution_count": null,
   "metadata": {},
   "outputs": [],
   "source": [
    "# Processing the dataset to convert columns to appropriate data types\n",
    "def pre_process_dataset(df_processing):\n",
    "    \"\"\" \n",
    "    Pre-process the dataset by converting columns to appropriate data types. \n",
    "    \"\"\"\n",
    "    date_formats = ['%Y-%m-%d %H:%M:%S', '%Y-%m-%d %H:%M', '%Y-%m-%d', '%d-%b-%Y']\n",
    "\n",
    "    for column in df_processing.columns:\n",
    "        if df_processing[column].dtype == 'object':\n",
    "            if pd.to_numeric(df_processing[column], errors='coerce').notnull().all():\n",
    "                df_processing[column] = pd.to_numeric(df_processing[column])\n",
    "            else:\n",
    "                for date_format in date_formats:\n",
    "                    try:\n",
    "                        df_processing[column] = pd.to_datetime(df_processing[column], format=date_format, errors='raise')\n",
    "                        break\n",
    "                    except ValueError:\n",
    "                        continue\n",
    "        elif df_processing[column].dtype == 'float64':\n",
    "            continue\n",
    "        elif df_processing[column].dtype == 'int64':\n",
    "            df_processing[column] = df_processing[column].astype('int64')\n",
    "        elif df_processing[column].dtype == 'bool':\n",
    "            df_processing[column] = df_processing[column].astype('bool')\n",
    "        elif pd.api.types.is_datetime64_any_dtype(df_processing[column]):\n",
    "            for date_format in date_formats:\n",
    "                try:\n",
    "                    df_processing[column] = pd.to_datetime(df_processing[column], format=date_format, errors='raise')\n",
    "                    break\n",
    "                except ValueError:\n",
    "                    continue\n",
    "        else:\n",
    "            df_processing[column] = df_processing[column].astype('object')\n",
    "\n",
    "    return df_processing\n",
    "\n",
    "# Apply the pre-processing function to the dataframe\n",
    "#df = pre_process_dataset(df_sideA)\n",
    "\n",
    "df_sideA = pre_process_dataset(df_sideA)\n",
    "df_sideB = pre_process_dataset(df_sideB)\n"
   ]
  },
  {
   "cell_type": "code",
   "execution_count": 8,
   "metadata": {},
   "outputs": [
    {
     "name": "stdout",
     "output_type": "stream",
     "text": [
      "Lista de Colunas com tipos:\n",
      "number                                 object\n",
      "caller_id                              object\n",
      "u_incident_type                        object\n",
      "impact                                 object\n",
      "short_description                      object\n",
      "u_impacted_area                        object\n",
      "u_impacted_business_unit               object\n",
      "assignment_group                       object\n",
      "assigned_to                            object\n",
      "assigned_to.email                      object\n",
      "assigned_to.manager                    object\n",
      "assigned_to.manager.email              object\n",
      "u_site                                 object\n",
      "u_reporting_level                      object\n",
      "incident_state                         object\n",
      "u_service                              object\n",
      "u_resolution_sla.percentage           float64\n",
      "u_sla_contract                         object\n",
      "opened_at                      datetime64[ns]\n",
      "u_accepted_at                  datetime64[ns]\n",
      "sys_updated_on                 datetime64[ns]\n",
      "u_target_resolution_time       datetime64[ns]\n",
      "cmdb_ci                                object\n",
      "cmdb_ci.u_folder                       object\n",
      "cmdb_ci.category                       object\n",
      "cmdb_ci.vendor                         object\n",
      "cmdb_ci.model_id                       object\n",
      "cmdb_ci.serial_number                  object\n",
      "close_code                             object\n",
      "close_notes                            object\n",
      "reopen_count                            int64\n",
      "u_spl_closure_code                     object\n",
      "reassignment_count                      int64\n",
      "u_reassign_reason                      object\n",
      "u_vendors                              object\n",
      "dtype: object\n",
      "Lista de Colunas com tipos:\n",
      "number                         int64\n",
      "caller_id                      int64\n",
      "u_incident_type                int64\n",
      "impact                         int64\n",
      "short_description              int64\n",
      "u_impacted_area                int64\n",
      "u_impacted_business_unit       int64\n",
      "assignment_group               int64\n",
      "assigned_to                    int64\n",
      "assigned_to.email              int64\n",
      "assigned_to.manager            int64\n",
      "assigned_to.manager.email      int64\n",
      "u_site                         int64\n",
      "u_reporting_level              int64\n",
      "incident_state                 int64\n",
      "u_service                      int64\n",
      "u_resolution_sla.percentage    int64\n",
      "u_sla_contract                 int64\n",
      "opened_at                      int64\n",
      "u_accepted_at                  int64\n",
      "sys_updated_on                 int64\n",
      "u_target_resolution_time       int64\n",
      "cmdb_ci                        int64\n",
      "cmdb_ci.u_folder               int64\n",
      "cmdb_ci.category               int64\n",
      "cmdb_ci.vendor                 int64\n",
      "cmdb_ci.model_id               int64\n",
      "cmdb_ci.serial_number          int64\n",
      "close_code                     int64\n",
      "close_notes                    int64\n",
      "reopen_count                   int64\n",
      "u_spl_closure_code             int64\n",
      "reassignment_count             int64\n",
      "u_reassign_reason              int64\n",
      "u_vendors                      int64\n",
      "dtype: object\n"
     ]
    }
   ],
   "source": [
    "# Print the list of columns in the dataframe\n",
    "print(f'incident_QA_Side-A \\n Lista de Colunas com tipos:\\n{df_sideA.dtypes}')"
   ]
  },
  {
   "cell_type": "code",
   "execution_count": null,
   "metadata": {},
   "outputs": [],
   "source": [
    "# Clean up the dataset by converting columns to appropriate data types.\n",
    "def cleanup_dataset(df_processing):\n",
    "    \"\"\" \n",
    "    Clean up the dataset by converting columns to appropriate data types. \n",
    "    \"\"\"\n",
    "    df_data_proc = df_processing\n",
    "    \n",
    "    # The .ffill method is used in pandas to fill in missing values (NaN) in a DataFrame or Series.\n",
    "    # It performs a forward fill, i.e. it fills the missing values with the last non-missing value previously found in the same column.\n",
    "    #.ffill() or method='ffill' for forward fill (fill with the previous value).\n",
    "    #.bfill() or method='bfill' for backward fill (fill with the next value).\n",
    "    # Example of use:\n",
    "    #                df_data_proc.ffill(inplace=True) or df_data_proc.bfill(inplace=True) \n",
    "    #                df_data_proc..fillna(method='ffill',inplace=True) or df_data_proc..fillna(method='bfill',inplace=True)\n",
    "\n",
    "    # Remove duplicated records\n",
    "    # df_data_proc.drop_duplicates(inplace=True)\n",
    "\n",
    "    # Removes records with null values or missing\n",
    "    # df_data_proc.dropna(inplace=True)\n",
    " \n",
    "    # Fill missing values with appropriate strategies\n",
    "    # For numeric columns, fill with the mean\n",
    "    # Example of use:\n",
    "    #       numeric_cols = df_data_proc.select_dtypes(include=['float64', 'int64']).columns\n",
    "    #       df_data_proc[numeric_cols] = df_data_proc[numeric_cols].fillna(df_data_proc[numeric_cols].mean())\n",
    "\n",
    "    # For categorical columns, fill with the mode\n",
    "    # Example of use:\n",
    "    #       categorical_cols = df_data_proc.select_dtypes(include=['object']).columns\n",
    "    #       df_data_proc[categorical_cols] = df_data_proc[categorical_cols].fillna(df_data_proc[categorical_cols].mode().iloc[0])\n",
    "\n",
    "    # For categorical columns, fill with a specific value\n",
    "    categorical_cols = df_data_proc.select_dtypes(include=['object']).columns\n",
    "    df_data_proc[categorical_cols] = df_data_proc[categorical_cols].fillna('(empty)')\n",
    "\n",
    "    # For datetime columns, fill with the most recent date\n",
    "    # Example of use:\n",
    "    #       datetime_cols = df_data_proc.select_dtypes(include=['datetime64']).columns\n",
    "    #       df_data_proc[datetime_cols] = df_data_proc[datetime_cols].fillna(df_data_proc[datetime_cols].max())\n",
    "    \n",
    "    \n",
    "    return df_data_proc\n",
    "\n",
    "# Clean up the dataset\n",
    "df = cleanup_dataset(df)\n"
   ]
  },
  {
   "cell_type": "code",
   "execution_count": 9,
   "metadata": {},
   "outputs": [
    {
     "name": "stdout",
     "output_type": "stream",
     "text": [
      "incident_QA_Side-B \n",
      " Lista de Colunas com tipos:\n",
      "number                         int64\n",
      "caller_id                      int64\n",
      "u_incident_type                int64\n",
      "impact                         int64\n",
      "short_description              int64\n",
      "u_impacted_area                int64\n",
      "u_impacted_business_unit       int64\n",
      "assignment_group               int64\n",
      "assigned_to                    int64\n",
      "assigned_to.email              int64\n",
      "assigned_to.manager            int64\n",
      "assigned_to.manager.email      int64\n",
      "u_site                         int64\n",
      "u_reporting_level              int64\n",
      "incident_state                 int64\n",
      "u_service                      int64\n",
      "u_resolution_sla.percentage    int64\n",
      "u_sla_contract                 int64\n",
      "opened_at                      int64\n",
      "u_accepted_at                  int64\n",
      "sys_updated_on                 int64\n",
      "u_target_resolution_time       int64\n",
      "cmdb_ci                        int64\n",
      "cmdb_ci.u_folder               int64\n",
      "cmdb_ci.category               int64\n",
      "cmdb_ci.vendor                 int64\n",
      "cmdb_ci.model_id               int64\n",
      "cmdb_ci.serial_number          int64\n",
      "close_code                     int64\n",
      "close_notes                    int64\n",
      "reopen_count                   int64\n",
      "u_spl_closure_code             int64\n",
      "reassignment_count             int64\n",
      "u_reassign_reason              int64\n",
      "u_vendors                      int64\n",
      "dtype: object\n"
     ]
    }
   ],
   "source": [
    "# Print the list of columns in the dataframe\n",
    "print(f'incident_QA_Side-B \\n Lista de Colunas com tipos:\\n{df_sideB.dtypes}')\n"
   ]
  },
  {
   "cell_type": "code",
   "execution_count": 10,
   "metadata": {},
   "outputs": [
    {
     "name": "stdout",
     "output_type": "stream",
     "text": [
      "Lista de Colunas com tipos:\n",
      "number                                 object\n",
      "caller_id                              object\n",
      "u_incident_type                        object\n",
      "impact                                 object\n",
      "short_description                      object\n",
      "u_impacted_area                        object\n",
      "u_impacted_business_unit               object\n",
      "assignment_group                       object\n",
      "assigned_to                            object\n",
      "assigned_to.email                      object\n",
      "assigned_to.manager                    object\n",
      "assigned_to.manager.email              object\n",
      "u_site                                 object\n",
      "u_reporting_level                      object\n",
      "incident_state                         object\n",
      "u_service                              object\n",
      "u_resolution_sla.percentage           float64\n",
      "u_sla_contract                         object\n",
      "opened_at                      datetime64[ns]\n",
      "u_accepted_at                  datetime64[ns]\n",
      "sys_updated_on                 datetime64[ns]\n",
      "u_target_resolution_time       datetime64[ns]\n",
      "cmdb_ci                                object\n",
      "cmdb_ci.u_folder                       object\n",
      "cmdb_ci.category                       object\n",
      "cmdb_ci.vendor                         object\n",
      "cmdb_ci.model_id                       object\n",
      "cmdb_ci.serial_number                  object\n",
      "close_code                             object\n",
      "close_notes                            object\n",
      "reopen_count                            int64\n",
      "u_spl_closure_code                     object\n",
      "reassignment_count                      int64\n",
      "u_reassign_reason                      object\n",
      "u_vendors                              object\n",
      "dtype: object\n",
      "Lista de Colunas com tipos:\n",
      "number                         int64\n",
      "caller_id                      int64\n",
      "u_incident_type                int64\n",
      "impact                         int64\n",
      "short_description              int64\n",
      "u_impacted_area                int64\n",
      "u_impacted_business_unit       int64\n",
      "assignment_group               int64\n",
      "assigned_to                    int64\n",
      "assigned_to.email              int64\n",
      "assigned_to.manager            int64\n",
      "assigned_to.manager.email      int64\n",
      "u_site                         int64\n",
      "u_reporting_level              int64\n",
      "incident_state                 int64\n",
      "u_service                      int64\n",
      "u_resolution_sla.percentage    int64\n",
      "u_sla_contract                 int64\n",
      "opened_at                      int64\n",
      "u_accepted_at                  int64\n",
      "sys_updated_on                 int64\n",
      "u_target_resolution_time       int64\n",
      "cmdb_ci                        int64\n",
      "cmdb_ci.u_folder               int64\n",
      "cmdb_ci.category               int64\n",
      "cmdb_ci.vendor                 int64\n",
      "cmdb_ci.model_id               int64\n",
      "cmdb_ci.serial_number          int64\n",
      "close_code                     int64\n",
      "close_notes                    int64\n",
      "reopen_count                   int64\n",
      "u_spl_closure_code             int64\n",
      "reassignment_count             int64\n",
      "u_reassign_reason              int64\n",
      "u_vendors                      int64\n",
      "dtype: object\n"
     ]
    }
   ],
   "source": [
    "# Print the list of columns in the dataframe\n",
    "#print(f'Lista de Colunas com tipos:\\n{df.dtypes.tolist()}')\n",
    "print(f'Lista de Colunas com tipos:\\n{df_sideA.dtypes}')\n",
    "print(f'Lista de Colunas com tipos:\\n{df_sideB.dtypes}')\n"
   ]
  },
  {
   "cell_type": "code",
   "execution_count": 12,
   "metadata": {},
   "outputs": [],
   "source": [
    "# Rename the columns in the dataframe\n",
    "##  df.rename(columns={\n",
    "##      'number'                                : 'Number',\n",
    "##      'caller_id'                             : 'Caller',\n",
    "##      'u_incident_type'                       : 'Incident_Type',\n",
    "##      'impact'                                : 'Impact',\n",
    "##      'short_description'                     : 'Short_Description',\n",
    "##      'u_impacted_area'                       : 'Area',\n",
    "##      'u_impacted_business_unit'              : 'BU',\n",
    "##      'assignment_group'                      : 'Assignment_Group',\n",
    "##      'assignment_group.manager.email'        : 'AG_Manager_Email',\n",
    "##      'assigned_to'                           : 'Assigned',\n",
    "##      'assigned_to.email'                     : 'Assigned_Email',\n",
    "##      'u_site'                                : 'Site',\n",
    "##      'u_reporting_level'                     : 'Level',\n",
    "##      'incident_state'                        : 'Incident_State',\n",
    "##      'u_service'                             : 'Service',\n",
    "##      'u_service.u_accountmanager.email'      : 'Service_AccountManager_Email',\n",
    "##      'u_service.owned_by.email'              : 'Service_OwnedByEmail',\n",
    "##      'u_resolution_sla.percentage'           : 'SLA',\n",
    "##      'opened_at'                             : 'Opened',\n",
    "##      'u_accepted_at'                         : 'Accepted',\n",
    "##      'sys_updated_on'                        : 'Updated',\n",
    "##      'u_target_resolution_time'              : 'TRT',\n",
    "##      'u_supplier'                            : 'Supplier',\n",
    "##      'cmdb_ci'                               : 'CI_CMDB',\n",
    "##      'cmdb_ci.category'                      : 'CI_Category',\n",
    "##      'cmdb_ci.u_folder'                      : 'CI_Folder',\n",
    "##      'cmdb_ci.manufacturer'                  : 'CI_Manufacturer',\n",
    "##      'cmdb_ci.model_id'                      : 'CI_Model_ID',\n",
    "##      'cmdb_ci.model_number'                  : 'CI_Model_Number',\n",
    "##      'cmdb_ci.serial_number'                 : 'CI_Serial_Number',\n",
    "##      'cmdb_ci.asset_tag'                     : 'CI_Asset_Tag',\n",
    "##      'u_complaint_reason'                    : 'Complaint_Reason',\n",
    "##      'reassignment_count'                    : 'Reassignment_Count',\n",
    "##      'u_reassign_reason'                     : 'Reassign_Reason',\n",
    "##      'reopen_count'                          : 'Reopen_Count',\n",
    "##      'u_date_worked'                         : 'Date_Worked',\n",
    "##      'u_effort_service'                      : 'Effort_Service',\n",
    "##      'u_time_worked_total'                   : 'Time_Worked_Total',\n",
    "##      'u_resolution_sla.duration'             : 'SLA_Duration',\n",
    "##      'u_resolution_sla.business_percentage'  : 'SLA_Business_Percentage',\n",
    "##  }, inplace=True)\n",
    "\n"
   ]
  },
  {
   "cell_type": "code",
   "execution_count": 13,
   "metadata": {},
   "outputs": [],
   "source": [
    "# Data Calculate\n",
    "\n",
    "def date_calculate(df_processing):\n",
    "    \"\"\"\n",
    "    Calculate the difference between the date of the incident and the date of the report.\n",
    "    \"\"\"\n",
    "    df_data_proc = df_processing\n",
    "\n",
    "    # Force convert datetime columns to datetime data type\n",
    "    #df_data_proc['Opened']  = pd.to_datetime(df_data_proc['Opened'])\n",
    "    #df_data_proc['Updated'] = pd.to_datetime(df_data_proc['Updated'])\n",
    "    #df_data_proc['TRT']     = pd.to_datetime(df_data_proc['TRT'])\n",
    "\n",
    "    # Get the current date\n",
    "    now = datetime.now()\n",
    "\n",
    "    # Calculate the difference between the date of the incident and the date of the report\n",
    "    df_data_proc['Days_Since_Opened']   = (now - df_data_proc['Opened']).dt.days\n",
    "    df_data_proc['Days_Since_Updated']  = (now - df_data_proc['Updated']).dt.days\n",
    "    df_data_proc['Days_Until_TRT']      = (df_data_proc['TRT'] - now).dt.days\n",
    "\n",
    "    return df_processing\n",
    "\n",
    "# Apply the date calculation function to the dataframe\n",
    "#df = date_calculate(df)\n"
   ]
  },
  {
   "cell_type": "code",
   "execution_count": 14,
   "metadata": {},
   "outputs": [
    {
     "name": "stdout",
     "output_type": "stream",
     "text": [
      "Current Date: 2025-08-13 21:20:46.305399\n"
     ]
    }
   ],
   "source": [
    "# Test Now()\n",
    "now = datetime.now()\n",
    "print(f'Current Date: {now}')"
   ]
  },
  {
   "cell_type": "code",
   "execution_count": 16,
   "metadata": {},
   "outputs": [
    {
     "name": "stdout",
     "output_type": "stream",
     "text": [
      "['number', 'caller_id', 'u_incident_type', 'impact', 'short_description', 'u_impacted_area', 'u_impacted_business_unit', 'assignment_group', 'assigned_to', 'assigned_to.email', 'assigned_to.manager', 'assigned_to.manager.email', 'u_site', 'u_reporting_level', 'incident_state', 'u_service', 'u_resolution_sla.percentage', 'u_sla_contract', 'opened_at', 'u_accepted_at', 'sys_updated_on', 'u_target_resolution_time', 'cmdb_ci', 'cmdb_ci.u_folder', 'cmdb_ci.category', 'cmdb_ci.vendor', 'cmdb_ci.model_id', 'cmdb_ci.serial_number', 'close_code', 'close_notes', 'reopen_count', 'u_spl_closure_code', 'reassignment_count', 'u_reassign_reason', 'u_vendors']\n"
     ]
    }
   ],
   "source": [
    "# pritn the list of columns in the dataframe\n",
    "print(df_sideA.columns.tolist())"
   ]
  },
  {
   "cell_type": "code",
   "execution_count": null,
   "metadata": {},
   "outputs": [],
   "source": [
    "# customising_order_of_columns(df, 'incident_view')\n",
    "\n",
    "def customising_order_of_columns(df_processing, format_view):\n",
    "    \"\"\" Format the columns list according to the view selected. \"\"\"\n",
    "\n",
    "    if format_view == None:\n",
    "        columns_list = df_processing[df_processing.columns.tolist()].copy()\n",
    "\n",
    "    elif format_view == \"incident_view\":\n",
    "        columns_list = df_processing[['Number', 'Opened', 'Service', 'Area', 'BU', 'Caller', 'Assignment_Group', 'Assigned', 'Incident_Type', 'Impact', 'Updated']].copy()\n",
    "\n",
    "    elif format_view == \"incident_type_impact_view\":\n",
    "        columns_list = df_processing[['Number', 'Opened', 'Incident_Type', 'Impact', 'Area', 'BU', 'Caller', 'Service', 'Assignment_Group', 'Assigned', 'Updated']].copy()\n",
    "\n",
    "    elif format_view == \"ci_view\":\n",
    "        columns_list = df_processing[['Number', 'Opened', 'Incident_Type', 'Impact', 'Area', 'BU', 'Caller', 'Service', 'Assigned', 'CI_CMDB', 'Updated']].copy()\n",
    "\n",
    "    elif format_view == \"supplier_view\":\n",
    "        columns_list = df_processing[['Number', 'Opened', 'Incident_Type', 'Impact', 'Area', 'BU', 'Service', 'Incident_State', 'Supplier', 'CI_CMDB', 'CI_Category', 'CI_Folder', 'CI_Model_ID','Updated']].copy()\n",
    "\n",
    "    elif format_view == \"impact_view\":\n",
    "        columns_list = df_processing[['Number', 'Opened', 'Service', 'Area', 'BU', 'Caller', 'Assignment_Group', 'Assigned', 'Incident_Type', 'Impact', 'Updated']].copy()\n",
    "\n",
    "    return columns_list\n"
   ]
  },
  {
   "cell_type": "code",
   "execution_count": null,
   "metadata": {},
   "outputs": [],
   "source": [
    "# convert_category_data_to_discrete_data(df)\n",
    "\n",
    "def convert_category_data_to_discrete_data(df_processing):\n",
    "    \"\"\"\n",
    "    Converts categorical data to discrete data by applying factorization.\n",
    "    Returns:\n",
    "    None\n",
    "    \"\"\"\n",
    "    df_data_proc = df_processing.copy()\n",
    "    #df_data_proc['incident_state_disc'], uniques   = pd.factorize(df_data_proc['Incident_State'])\n",
    "    #df_data_proc['caller_disc'], uniques           = pd.factorize(df_data_proc['Caller'])\n",
    "    #df_data_proc['site_disc'], uniques             = pd.factorize(df_data_proc['Site'])\n",
    "    #df_data_proc['assignment_group_disc'], uniques = pd.factorize(df_data_proc['Assignment_Group'])\n",
    "    #df_data_proc['incident_type_disc'], uniques    = pd.factorize(df_data_proc['Incident_Type'])\n",
    "    #df_data_proc['impact_disc'], uniques           = pd.factorize(df_data_proc['Impact'])\n",
    "    #df_data_proc['bu_disc'], uniques               = pd.factorize(df_data_proc['BU'])\n",
    "    #df_data_proc['supplier_disc'], uniques         = pd.factorize(df_data_proc['Supplier'])    \n",
    "    return df_data_proc\n",
    "\n",
    "#df_describe = convert_category_data_to_discrete_data(df)\n",
    "\n"
   ]
  },
  {
   "cell_type": "code",
   "execution_count": 17,
   "metadata": {},
   "outputs": [
    {
     "name": "stdout",
     "output_type": "stream",
     "text": [
      "number                                 object\n",
      "caller_id                              object\n",
      "u_incident_type                        object\n",
      "impact                                 object\n",
      "short_description                      object\n",
      "u_impacted_area                        object\n",
      "u_impacted_business_unit               object\n",
      "assignment_group                       object\n",
      "assigned_to                            object\n",
      "assigned_to.email                      object\n",
      "assigned_to.manager                    object\n",
      "assigned_to.manager.email              object\n",
      "u_site                                 object\n",
      "u_reporting_level                      object\n",
      "incident_state                         object\n",
      "u_service                              object\n",
      "u_resolution_sla.percentage           float64\n",
      "u_sla_contract                         object\n",
      "opened_at                      datetime64[ns]\n",
      "u_accepted_at                  datetime64[ns]\n",
      "sys_updated_on                 datetime64[ns]\n",
      "u_target_resolution_time       datetime64[ns]\n",
      "cmdb_ci                                object\n",
      "cmdb_ci.u_folder                       object\n",
      "cmdb_ci.category                       object\n",
      "cmdb_ci.vendor                         object\n",
      "cmdb_ci.model_id                       object\n",
      "cmdb_ci.serial_number                  object\n",
      "close_code                             object\n",
      "close_notes                            object\n",
      "reopen_count                            int64\n",
      "u_spl_closure_code                     object\n",
      "reassignment_count                      int64\n",
      "u_reassign_reason                      object\n",
      "u_vendors                              object\n",
      "dtype: object\n"
     ]
    }
   ],
   "source": [
    "print(df_sideA.dtypes)"
   ]
  },
  {
   "cell_type": "markdown",
   "metadata": {},
   "source": [
    "### 1.0 - Heatmap for correlation analysis between Incident Types and Impact"
   ]
  },
  {
   "cell_type": "code",
   "execution_count": 28,
   "metadata": {},
   "outputs": [
    {
     "data": {
      "image/png": "[encoded data removed]",
      "text/plain": [
       "<Figure size 800x600 with 2 Axes>"
      ]
     },
     "metadata": {},
     "output_type": "display_data"
    }
   ],
   "source": [
    "# 1.0 - Heatmap for correlation analysis between Incident Types and Impact\n",
    "\n",
    "label_incident_type_order = ['Security Incident','Complaint','Incident', 'Request for Information','Request for Change Ticket','Request for Standard Change']\n",
    "label_impact_order = ['None / Minor', 'User(s)','Department','Location','Country','Region','Global']\n",
    "\n",
    "cmap = LinearSegmentedColormap.from_list(\"custom_cmap\",[\"#DCDCDC\", \"#FFCC00\", \"#D40511\"])\n",
    "\n",
    "matrix_incident_type_w_impact = pd.crosstab(df_sideA['u_incident_type'], df_sideA['impact']).reindex(index=label_incident_type_order, columns=label_impact_order, fill_value=0)\n",
    "\n",
    "plt.figure(figsize=(8, 6))\n",
    "sns.heatmap(matrix_incident_type_w_impact, annot=True, cmap=cmap, center=50, linewidths=0.5, fmt=\".0f\")    \n",
    "plt.title('Correlation between Incident type and Impact').set_weight('bold')\n",
    "plt.xlabel('Impact').set_animated(True)\n",
    "plt.ylabel('Incident_Type')\n",
    "plt.xticks(rotation=45)\n",
    "plt.tight_layout()\n",
    "    \n",
    "#plt.savefig('./src/output/html_element_1_0.png', dpi=150)\n",
    "plt.show()\n"
   ]
  },
  {
   "cell_type": "code",
   "execution_count": 32,
   "metadata": {},
   "outputs": [
    {
     "data": {
      "application/vnd.microsoft.datawrangler.viewer.v0+json": {
       "columns": [
        {
         "name": "index",
         "rawType": "int64",
         "type": "integer"
        },
        {
         "name": "number",
         "rawType": "object",
         "type": "string"
        },
        {
         "name": "caller_id",
         "rawType": "object",
         "type": "string"
        },
        {
         "name": "u_incident_type",
         "rawType": "object",
         "type": "string"
        },
        {
         "name": "impact",
         "rawType": "object",
         "type": "string"
        },
        {
         "name": "short_description",
         "rawType": "object",
         "type": "string"
        },
        {
         "name": "u_impacted_area",
         "rawType": "object",
         "type": "string"
        },
        {
         "name": "u_impacted_business_unit",
         "rawType": "object",
         "type": "string"
        },
        {
         "name": "assignment_group",
         "rawType": "object",
         "type": "string"
        },
        {
         "name": "assigned_to",
         "rawType": "object",
         "type": "string"
        },
        {
         "name": "assigned_to.email",
         "rawType": "object",
         "type": "string"
        },
        {
         "name": "assigned_to.manager",
         "rawType": "object",
         "type": "string"
        },
        {
         "name": "assigned_to.manager.email",
         "rawType": "object",
         "type": "string"
        },
        {
         "name": "u_site",
         "rawType": "object",
         "type": "string"
        },
        {
         "name": "u_reporting_level",
         "rawType": "object",
         "type": "string"
        },
        {
         "name": "incident_state",
         "rawType": "object",
         "type": "string"
        },
        {
         "name": "u_service",
         "rawType": "object",
         "type": "string"
        },
        {
         "name": "u_resolution_sla.percentage",
         "rawType": "float64",
         "type": "float"
        },
        {
         "name": "u_sla_contract",
         "rawType": "object",
         "type": "string"
        },
        {
         "name": "opened_at",
         "rawType": "datetime64[ns]",
         "type": "datetime"
        },
        {
         "name": "u_accepted_at",
         "rawType": "datetime64[ns]",
         "type": "datetime"
        },
        {
         "name": "sys_updated_on",
         "rawType": "datetime64[ns]",
         "type": "datetime"
        },
        {
         "name": "u_target_resolution_time",
         "rawType": "datetime64[ns]",
         "type": "datetime"
        },
        {
         "name": "cmdb_ci",
         "rawType": "object",
         "type": "string"
        },
        {
         "name": "cmdb_ci.u_folder",
         "rawType": "object",
         "type": "string"
        },
        {
         "name": "cmdb_ci.category",
         "rawType": "object",
         "type": "string"
        },
        {
         "name": "cmdb_ci.vendor",
         "rawType": "object",
         "type": "string"
        },
        {
         "name": "cmdb_ci.model_id",
         "rawType": "object",
         "type": "string"
        },
        {
         "name": "cmdb_ci.serial_number",
         "rawType": "object",
         "type": "string"
        },
        {
         "name": "close_code",
         "rawType": "object",
         "type": "string"
        },
        {
         "name": "close_notes",
         "rawType": "object",
         "type": "string"
        },
        {
         "name": "reopen_count",
         "rawType": "int64",
         "type": "integer"
        },
        {
         "name": "u_spl_closure_code",
         "rawType": "object",
         "type": "string"
        },
        {
         "name": "reassignment_count",
         "rawType": "int64",
         "type": "integer"
        },
        {
         "name": "u_reassign_reason",
         "rawType": "object",
         "type": "string"
        },
        {
         "name": "u_vendors",
         "rawType": "object",
         "type": "string"
        }
       ],
       "ref": "f1bfb08a-e7d7-4c9a-b995-407d863f79b6",
       "rows": [],
       "shape": {
        "columns": 35,
        "rows": 0
       }
      },
      "text/html": [
       "<div>\n",
       "<style scoped>\n",
       "    .dataframe tbody tr th:only-of-type {\n",
       "        vertical-align: middle;\n",
       "    }\n",
       "\n",
       "    .dataframe tbody tr th {\n",
       "        vertical-align: top;\n",
       "    }\n",
       "\n",
       "    .dataframe thead th {\n",
       "        text-align: right;\n",
       "    }\n",
       "</style>\n",
       "<table border=\"1\" class=\"dataframe\">\n",
       "  <thead>\n",
       "    <tr style=\"text-align: right;\">\n",
       "      <th></th>\n",
       "      <th>number</th>\n",
       "      <th>caller_id</th>\n",
       "      <th>u_incident_type</th>\n",
       "      <th>impact</th>\n",
       "      <th>short_description</th>\n",
       "      <th>u_impacted_area</th>\n",
       "      <th>u_impacted_business_unit</th>\n",
       "      <th>assignment_group</th>\n",
       "      <th>assigned_to</th>\n",
       "      <th>assigned_to.email</th>\n",
       "      <th>...</th>\n",
       "      <th>cmdb_ci.vendor</th>\n",
       "      <th>cmdb_ci.model_id</th>\n",
       "      <th>cmdb_ci.serial_number</th>\n",
       "      <th>close_code</th>\n",
       "      <th>close_notes</th>\n",
       "      <th>reopen_count</th>\n",
       "      <th>u_spl_closure_code</th>\n",
       "      <th>reassignment_count</th>\n",
       "      <th>u_reassign_reason</th>\n",
       "      <th>u_vendors</th>\n",
       "    </tr>\n",
       "  </thead>\n",
       "  <tbody>\n",
       "  </tbody>\n",
       "</table>\n",
       "<p>0 rows × 35 columns</p>\n",
       "</div>"
      ],
      "text/plain": [
       "Empty DataFrame\n",
       "Columns: [number, caller_id, u_incident_type, impact, short_description, u_impacted_area, u_impacted_business_unit, assignment_group, assigned_to, assigned_to.email, assigned_to.manager, assigned_to.manager.email, u_site, u_reporting_level, incident_state, u_service, u_resolution_sla.percentage, u_sla_contract, opened_at, u_accepted_at, sys_updated_on, u_target_resolution_time, cmdb_ci, cmdb_ci.u_folder, cmdb_ci.category, cmdb_ci.vendor, cmdb_ci.model_id, cmdb_ci.serial_number, close_code, close_notes, reopen_count, u_spl_closure_code, reassignment_count, u_reassign_reason, u_vendors]\n",
       "Index: []\n",
       "\n",
       "[0 rows x 35 columns]"
      ]
     },
     "execution_count": 32,
     "metadata": {},
     "output_type": "execute_result"
    }
   ],
   "source": [
    "# 1.1 - Report listing the incident type filtered as \"Incident\" and the impact filtered as \"None / Minor\".\n",
    "\n",
    "df_1_1 = df_sideA[(df_sideA['u_incident_type'] == 'Incident') & (df_sideA['impact'] == 'None / Minor')].sort_values(by=['u_impacted_area', 'u_impacted_business_unit', 'assignment_group', 'assigned_to'])\n",
    "#df_1_1 = customising_order_of_columns(df_1_1, 'incident_type_impact_view')\n",
    "df_1_1.head(20) #.to_html('./src/output/html_element_1_1.html', index=False)\n",
    "\n"
   ]
  },
  {
   "cell_type": "code",
   "execution_count": 33,
   "metadata": {},
   "outputs": [
    {
     "data": {
      "application/vnd.microsoft.datawrangler.viewer.v0+json": {
       "columns": [
        {
         "name": "index",
         "rawType": "int64",
         "type": "integer"
        },
        {
         "name": "number",
         "rawType": "object",
         "type": "string"
        },
        {
         "name": "caller_id",
         "rawType": "object",
         "type": "string"
        },
        {
         "name": "u_incident_type",
         "rawType": "object",
         "type": "string"
        },
        {
         "name": "impact",
         "rawType": "object",
         "type": "string"
        },
        {
         "name": "short_description",
         "rawType": "object",
         "type": "string"
        },
        {
         "name": "u_impacted_area",
         "rawType": "object",
         "type": "string"
        },
        {
         "name": "u_impacted_business_unit",
         "rawType": "object",
         "type": "string"
        },
        {
         "name": "assignment_group",
         "rawType": "object",
         "type": "string"
        },
        {
         "name": "assigned_to",
         "rawType": "object",
         "type": "string"
        },
        {
         "name": "assigned_to.email",
         "rawType": "object",
         "type": "string"
        },
        {
         "name": "assigned_to.manager",
         "rawType": "object",
         "type": "string"
        },
        {
         "name": "assigned_to.manager.email",
         "rawType": "object",
         "type": "string"
        },
        {
         "name": "u_site",
         "rawType": "object",
         "type": "unknown"
        },
        {
         "name": "u_reporting_level",
         "rawType": "object",
         "type": "string"
        },
        {
         "name": "incident_state",
         "rawType": "object",
         "type": "string"
        },
        {
         "name": "u_service",
         "rawType": "object",
         "type": "string"
        },
        {
         "name": "u_resolution_sla.percentage",
         "rawType": "float64",
         "type": "float"
        },
        {
         "name": "u_sla_contract",
         "rawType": "object",
         "type": "string"
        },
        {
         "name": "opened_at",
         "rawType": "datetime64[ns]",
         "type": "datetime"
        },
        {
         "name": "u_accepted_at",
         "rawType": "datetime64[ns]",
         "type": "datetime"
        },
        {
         "name": "sys_updated_on",
         "rawType": "datetime64[ns]",
         "type": "datetime"
        },
        {
         "name": "u_target_resolution_time",
         "rawType": "datetime64[ns]",
         "type": "datetime"
        },
        {
         "name": "cmdb_ci",
         "rawType": "object",
         "type": "string"
        },
        {
         "name": "cmdb_ci.u_folder",
         "rawType": "object",
         "type": "string"
        },
        {
         "name": "cmdb_ci.category",
         "rawType": "object",
         "type": "string"
        },
        {
         "name": "cmdb_ci.vendor",
         "rawType": "object",
         "type": "unknown"
        },
        {
         "name": "cmdb_ci.model_id",
         "rawType": "object",
         "type": "unknown"
        },
        {
         "name": "cmdb_ci.serial_number",
         "rawType": "object",
         "type": "unknown"
        },
        {
         "name": "close_code",
         "rawType": "object",
         "type": "string"
        },
        {
         "name": "close_notes",
         "rawType": "object",
         "type": "string"
        },
        {
         "name": "reopen_count",
         "rawType": "int64",
         "type": "integer"
        },
        {
         "name": "u_spl_closure_code",
         "rawType": "object",
         "type": "string"
        },
        {
         "name": "reassignment_count",
         "rawType": "int64",
         "type": "integer"
        },
        {
         "name": "u_reassign_reason",
         "rawType": "object",
         "type": "unknown"
        },
        {
         "name": "u_vendors",
         "rawType": "object",
         "type": "unknown"
        }
       ],
       "ref": "e5cc3060-5fc1-4c8b-9b43-dfa731f6dba5",
       "rows": [
        [
         "3",
         "INC65084862",
         "Wagner Rodrigues Dos Santos",
         "Request for Standard Change",
         "User(s)",
         "BR DSC RF Não é possível acessar a velocidade",
         "BR",
         "DSC",
         "AMER-ITS-SA-Scanner",
         "Alexsandro Paulino De Oliveira",
         "alexsandro.oliveira@dhl.com",
         "Eduardo Menegassi",
         "Eduardo.Menegassi@dhl.com",
         "Cabreuva-SP-Pepsico",
         "R5",
         "Informed",
         "SCANNER SUPPORT DSC LATAM",
         "97.1",
         "ITS LATAM - BR",
         "2025-08-07 07:43:37",
         "2025-08-11 14:07:45",
         "2025-08-13 13:31:33",
         "2025-08-13 18:00:00",
         "BR-BRHS-21061D83DB",
         "ITS LATAM",
         "Handscanner",
         null,
         "Honeywell CK65",
         "21061D83DB",
         "Not Resolved (Withdrawn by User)",
         "Tentado contato com colaborador(a), porém sem êxito. \r\nTentativa - 3/3\r\n\r\n\r\nChamado está sendo encerrado por falta de contato com o(a) colaborador(a).\r\n\r\nCaso o erro persista abrir um novo chamado!\r\n\r\nErros com sistemas WMS:\r\n\r\nhttps://gsd.dhl.com/forms/2502?env=ess\r\n",
         "0",
         "AMER-TM-Android_RF",
         "1",
         null,
         null
        ],
        [
         "10",
         "INC65073690",
         "Daniel Pelissen Pavani Soares",
         "Request for Standard Change",
         "User(s)",
         "BR DSC Cajamar RF problema com o scanner",
         "BR",
         "DSC",
         "AMER-ITS-SA-Scanner",
         "Carlos Alberto Montana",
         "carlos.montana@dhl.com",
         "Eduardo Menegassi",
         "Eduardo.Menegassi@dhl.com",
         "Extrema-MG-Adidas",
         "R5",
         "Informed",
         "SCANNER SUPPORT DSC LATAM",
         "71.63",
         "ITS LATAM - BR",
         "2025-08-06 14:18:49",
         "2025-08-11 14:38:52",
         "2025-08-11 14:38:52",
         "2025-08-13 14:18:49",
         "BR-BRHS-24012D8079",
         "ITS LATAM",
         "Handscanner",
         null,
         "Honeywell CK65",
         "24012D8079",
         "Not Resolved (Withdrawn by User)",
         "Orientado colaborador sobre o uso e criação do barcode correto para leitura, o mesmo criou no padrão SpaceX Louveira, RF lendo normalmente qrcode.",
         "0",
         "AMER-TM-Telnet",
         "1",
         null,
         null
        ],
        [
         "172",
         "INC65161597",
         "Sergio Jose Ribeiro Junior",
         "Request for Standard Change",
         "User(s)",
         "BR - ITS - Máquina desabilitada no AD.",
         "BR",
         "Express",
         "AMER-ITS-BR-FieldSupport",
         "Sergio Jose Ribeiro Junior",
         "s.ribeiro_junior@dhl.com",
         "Eiji Moreira Yamamoto",
         "Eiji.Yamamoto@dhl.com",
         null,
         "R5",
         "Informed",
         "DESKTOP SUPPORT EXP LATAM",
         "0.15",
         "ITS LATAM - BR",
         "2025-08-13 08:36:25",
         "2025-08-13 08:38:52",
         "2025-08-13 08:51:35",
         "2025-08-20 08:36:25",
         "BR-COLP-AS1323682",
         "EXP BR",
         "Laptop/Notebook",
         "Dell",
         "Dell Latitude 5420",
         "HTGMLM3",
         "Resolved",
         "Onsite _ Visto que a máquina estava fora do domínio, preenchido o formulario, para habilitar ela novamente.\r\n\r\nMáquina habilitada com sucesso.",
         "0",
         "AMER-SW-NonStdApplications_Installation",
         "1",
         null,
         null
        ],
        [
         "115",
         "INC65073423",
         "Eiji Moreira Yamamoto",
         "Request for Information",
         "User(s)",
         "Secure Boot is disabled on multiple workstations",
         "BR",
         "ITS",
         "AMER-ITS-BR-EUS-BRAZIL",
         "Luiz Lourenco Pereira Neto",
         "Luiz.Lourenco@dhl.com",
         "Eiji Moreira Yamamoto",
         "Eiji.Yamamoto@dhl.com",
         null,
         "R5",
         "Informed",
         "DESKTOP SUPPORT DSC LATAM",
         "72.1",
         "Default SLA Contract",
         "2025-08-06 13:57:38",
         "2025-08-06 18:13:50",
         "2025-08-11 15:05:37",
         "2025-08-13 13:57:38",
         "AMER-EUS-Unknown",
         "ITS AM Desktop",
         "Data",
         null,
         null,
         null,
         "Not Resolved (Conflicts with Standards and Policy)",
         "A equipe de segurança da informação recebeu tickets sobre equipamentos com a opção de \"secure boot\" desativada. Por padrão, essa configuração não é alterada em PCs.",
         "0",
         "AMER-HW-Motherboard",
         "1",
         null,
         null
        ],
        [
         "80",
         "INC65061702",
         "Lih Lih Ng",
         "Request for Standard Change",
         "User(s)",
         "AR/DSC- Secure Boot is disabled on multiple workstations",
         "MY - Malaysia",
         "ITS",
         "AMER-ITS-AR-EUS-Argentina",
         "Gustavo Jorge Estrella",
         "Gustavo.Estrella@dhl.com",
         "Maria Dolores Del Corro Buendia",
         "Maria.DelCorroB@dhl.com",
         null,
         "R5",
         "Informed",
         "DESKTOP SUPPORT DSC LATAM",
         "79.77",
         "Default SLA Contract",
         "2025-08-06 01:46:25",
         "2025-08-08 16:48:37",
         "2025-08-11 15:46:56",
         "2025-08-13 01:46:25",
         "AMER-SW-NonStdApplications Installation",
         "ITS AM Desktop",
         "Data",
         null,
         null,
         null,
         "Resolved",
         "Secureboot activo en ambos equipos de acuerdo a lo solicitado.\r\nSe cierra el caso",
         "0",
         "AMER-EUS-Unknown",
         "1",
         null,
         null
        ],
        [
         "25",
         "INC65062003",
         "Lih Lih Ng",
         "Request for Standard Change",
         "User(s)",
         "CL/DSC-Secure Boot is disabled on CLQUIWD3011104",
         "MY - Malaysia",
         "ITS",
         "AMER-ITS-CL-EUS-Chile",
         "Cristian Escobar Olguin",
         "cristian.escobar@dhl.com",
         "Douglas Frezarini Provazi",
         "douglas.provazi@dhl.com",
         null,
         "R5",
         "Informed",
         "DESKTOP SUPPORT DSC LATAM",
         "78.52",
         "Default SLA Contract",
         "2025-08-06 02:19:43",
         "2025-08-11 14:14:57",
         "2025-08-11 14:14:57",
         "2025-08-13 02:19:43",
         "CL-CODK-MXL4113JCY",
         "ITS LATAM",
         "Desktop",
         null,
         "HP Elite SFF 600 G9",
         "MXL4113JCY",
         "Resolved",
         "Security Boot no fue desactivado por usuario.\r\nSe sospecha que el cambio en la seguridad fue debido a un cambio de placa madre por daño en la tarjeta de red.\r\n\r\nINC63103283, P4 - Low, assigned to your group: CL/DSC/PC/COMPUTADOR NO CONECTA A INTERNET\r\n\r\nEVIDENCIA HP\r\nCASO 5139894498 GARANTIA HP/NETSER GROUP \r\nFecha: 18/03/2025. Horario AM. \r\nTécnico asignado: Enrique Garcia\r\nRut: 27.857.694-9\r\nEstimado Cliente:\r\n \r\nReciba un cordial saludo de parte del Centro Autorizado de Servicios HP: Netser Group\r\n \r\nLe contactamos con relación al caso 5139894498 generado para la atención del equipo HP Elite SFF 600 G9 con serie MXL4113JCY, para informarle que nos encontramos esperando la llegada de la(s) siguiente(s) parte(s) recomendada(s):\r\n \r\n•\tP13198-601/ SPS-MB Scrabble ADL-Q670 MT22 WIN\r\n--------------\r\n\r\nSecurity Boot fue activado con éxito.",
         "0",
         "AMER-OT-BIOS_UPDATE",
         "1",
         null,
         null
        ]
       ],
       "shape": {
        "columns": 35,
        "rows": 6
       }
      },
      "text/html": [
       "<div>\n",
       "<style scoped>\n",
       "    .dataframe tbody tr th:only-of-type {\n",
       "        vertical-align: middle;\n",
       "    }\n",
       "\n",
       "    .dataframe tbody tr th {\n",
       "        vertical-align: top;\n",
       "    }\n",
       "\n",
       "    .dataframe thead th {\n",
       "        text-align: right;\n",
       "    }\n",
       "</style>\n",
       "<table border=\"1\" class=\"dataframe\">\n",
       "  <thead>\n",
       "    <tr style=\"text-align: right;\">\n",
       "      <th></th>\n",
       "      <th>number</th>\n",
       "      <th>caller_id</th>\n",
       "      <th>u_incident_type</th>\n",
       "      <th>impact</th>\n",
       "      <th>short_description</th>\n",
       "      <th>u_impacted_area</th>\n",
       "      <th>u_impacted_business_unit</th>\n",
       "      <th>assignment_group</th>\n",
       "      <th>assigned_to</th>\n",
       "      <th>assigned_to.email</th>\n",
       "      <th>...</th>\n",
       "      <th>cmdb_ci.vendor</th>\n",
       "      <th>cmdb_ci.model_id</th>\n",
       "      <th>cmdb_ci.serial_number</th>\n",
       "      <th>close_code</th>\n",
       "      <th>close_notes</th>\n",
       "      <th>reopen_count</th>\n",
       "      <th>u_spl_closure_code</th>\n",
       "      <th>reassignment_count</th>\n",
       "      <th>u_reassign_reason</th>\n",
       "      <th>u_vendors</th>\n",
       "    </tr>\n",
       "  </thead>\n",
       "  <tbody>\n",
       "    <tr>\n",
       "      <th>3</th>\n",
       "      <td>INC65084862</td>\n",
       "      <td>Wagner Rodrigues Dos Santos</td>\n",
       "      <td>Request for Standard Change</td>\n",
       "      <td>User(s)</td>\n",
       "      <td>BR DSC RF Não é possível acessar a velocidade</td>\n",
       "      <td>BR</td>\n",
       "      <td>DSC</td>\n",
       "      <td>AMER-ITS-SA-Scanner</td>\n",
       "      <td>Alexsandro Paulino De Oliveira</td>\n",
       "      <td>alexsandro.oliveira@dhl.com</td>\n",
       "      <td>...</td>\n",
       "      <td>NaN</td>\n",
       "      <td>Honeywell CK65</td>\n",
       "      <td>21061D83DB</td>\n",
       "      <td>Not Resolved (Withdrawn by User)</td>\n",
       "      <td>Tentado contato com colaborador(a), porém sem ...</td>\n",
       "      <td>0</td>\n",
       "      <td>AMER-TM-Android_RF</td>\n",
       "      <td>1</td>\n",
       "      <td>NaN</td>\n",
       "      <td>NaN</td>\n",
       "    </tr>\n",
       "    <tr>\n",
       "      <th>10</th>\n",
       "      <td>INC65073690</td>\n",
       "      <td>Daniel Pelissen Pavani Soares</td>\n",
       "      <td>Request for Standard Change</td>\n",
       "      <td>User(s)</td>\n",
       "      <td>BR DSC Cajamar RF problema com o scanner</td>\n",
       "      <td>BR</td>\n",
       "      <td>DSC</td>\n",
       "      <td>AMER-ITS-SA-Scanner</td>\n",
       "      <td>Carlos Alberto Montana</td>\n",
       "      <td>carlos.montana@dhl.com</td>\n",
       "      <td>...</td>\n",
       "      <td>NaN</td>\n",
       "      <td>Honeywell CK65</td>\n",
       "      <td>24012D8079</td>\n",
       "      <td>Not Resolved (Withdrawn by User)</td>\n",
       "      <td>Orientado colaborador sobre o uso e criação do...</td>\n",
       "      <td>0</td>\n",
       "      <td>AMER-TM-Telnet</td>\n",
       "      <td>1</td>\n",
       "      <td>NaN</td>\n",
       "      <td>NaN</td>\n",
       "    </tr>\n",
       "    <tr>\n",
       "      <th>172</th>\n",
       "      <td>INC65161597</td>\n",
       "      <td>Sergio Jose Ribeiro Junior</td>\n",
       "      <td>Request for Standard Change</td>\n",
       "      <td>User(s)</td>\n",
       "      <td>BR - ITS - Máquina desabilitada no AD.</td>\n",
       "      <td>BR</td>\n",
       "      <td>Express</td>\n",
       "      <td>AMER-ITS-BR-FieldSupport</td>\n",
       "      <td>Sergio Jose Ribeiro Junior</td>\n",
       "      <td>s.ribeiro_junior@dhl.com</td>\n",
       "      <td>...</td>\n",
       "      <td>Dell</td>\n",
       "      <td>Dell Latitude 5420</td>\n",
       "      <td>HTGMLM3</td>\n",
       "      <td>Resolved</td>\n",
       "      <td>Onsite _ Visto que a máquina estava fora do do...</td>\n",
       "      <td>0</td>\n",
       "      <td>AMER-SW-NonStdApplications_Installation</td>\n",
       "      <td>1</td>\n",
       "      <td>NaN</td>\n",
       "      <td>NaN</td>\n",
       "    </tr>\n",
       "    <tr>\n",
       "      <th>115</th>\n",
       "      <td>INC65073423</td>\n",
       "      <td>Eiji Moreira Yamamoto</td>\n",
       "      <td>Request for Information</td>\n",
       "      <td>User(s)</td>\n",
       "      <td>Secure Boot is disabled on multiple workstations</td>\n",
       "      <td>BR</td>\n",
       "      <td>ITS</td>\n",
       "      <td>AMER-ITS-BR-EUS-BRAZIL</td>\n",
       "      <td>Luiz Lourenco Pereira Neto</td>\n",
       "      <td>Luiz.Lourenco@dhl.com</td>\n",
       "      <td>...</td>\n",
       "      <td>NaN</td>\n",
       "      <td>NaN</td>\n",
       "      <td>NaN</td>\n",
       "      <td>Not Resolved (Conflicts with Standards and Pol...</td>\n",
       "      <td>A equipe de segurança da informação recebeu ti...</td>\n",
       "      <td>0</td>\n",
       "      <td>AMER-HW-Motherboard</td>\n",
       "      <td>1</td>\n",
       "      <td>NaN</td>\n",
       "      <td>NaN</td>\n",
       "    </tr>\n",
       "    <tr>\n",
       "      <th>80</th>\n",
       "      <td>INC65061702</td>\n",
       "      <td>Lih Lih Ng</td>\n",
       "      <td>Request for Standard Change</td>\n",
       "      <td>User(s)</td>\n",
       "      <td>AR/DSC- Secure Boot is disabled on multiple wo...</td>\n",
       "      <td>MY - Malaysia</td>\n",
       "      <td>ITS</td>\n",
       "      <td>AMER-ITS-AR-EUS-Argentina</td>\n",
       "      <td>Gustavo Jorge Estrella</td>\n",
       "      <td>Gustavo.Estrella@dhl.com</td>\n",
       "      <td>...</td>\n",
       "      <td>NaN</td>\n",
       "      <td>NaN</td>\n",
       "      <td>NaN</td>\n",
       "      <td>Resolved</td>\n",
       "      <td>Secureboot activo en ambos equipos de acuerdo ...</td>\n",
       "      <td>0</td>\n",
       "      <td>AMER-EUS-Unknown</td>\n",
       "      <td>1</td>\n",
       "      <td>NaN</td>\n",
       "      <td>NaN</td>\n",
       "    </tr>\n",
       "    <tr>\n",
       "      <th>25</th>\n",
       "      <td>INC65062003</td>\n",
       "      <td>Lih Lih Ng</td>\n",
       "      <td>Request for Standard Change</td>\n",
       "      <td>User(s)</td>\n",
       "      <td>CL/DSC-Secure Boot is disabled on CLQUIWD3011104</td>\n",
       "      <td>MY - Malaysia</td>\n",
       "      <td>ITS</td>\n",
       "      <td>AMER-ITS-CL-EUS-Chile</td>\n",
       "      <td>Cristian Escobar Olguin</td>\n",
       "      <td>cristian.escobar@dhl.com</td>\n",
       "      <td>...</td>\n",
       "      <td>NaN</td>\n",
       "      <td>HP Elite SFF 600 G9</td>\n",
       "      <td>MXL4113JCY</td>\n",
       "      <td>Resolved</td>\n",
       "      <td>Security Boot no fue desactivado por usuario.\\...</td>\n",
       "      <td>0</td>\n",
       "      <td>AMER-OT-BIOS_UPDATE</td>\n",
       "      <td>1</td>\n",
       "      <td>NaN</td>\n",
       "      <td>NaN</td>\n",
       "    </tr>\n",
       "  </tbody>\n",
       "</table>\n",
       "<p>6 rows × 35 columns</p>\n",
       "</div>"
      ],
      "text/plain": [
       "          number                      caller_id              u_incident_type  \\\n",
       "3    INC65084862    Wagner Rodrigues Dos Santos  Request for Standard Change   \n",
       "10   INC65073690  Daniel Pelissen Pavani Soares  Request for Standard Change   \n",
       "172  INC65161597     Sergio Jose Ribeiro Junior  Request for Standard Change   \n",
       "115  INC65073423          Eiji Moreira Yamamoto      Request for Information   \n",
       "80   INC65061702                     Lih Lih Ng  Request for Standard Change   \n",
       "25   INC65062003                     Lih Lih Ng  Request for Standard Change   \n",
       "\n",
       "      impact                                  short_description  \\\n",
       "3    User(s)      BR DSC RF Não é possível acessar a velocidade   \n",
       "10   User(s)           BR DSC Cajamar RF problema com o scanner   \n",
       "172  User(s)             BR - ITS - Máquina desabilitada no AD.   \n",
       "115  User(s)   Secure Boot is disabled on multiple workstations   \n",
       "80   User(s)  AR/DSC- Secure Boot is disabled on multiple wo...   \n",
       "25   User(s)   CL/DSC-Secure Boot is disabled on CLQUIWD3011104   \n",
       "\n",
       "    u_impacted_area u_impacted_business_unit           assignment_group  \\\n",
       "3                BR                      DSC        AMER-ITS-SA-Scanner   \n",
       "10               BR                      DSC        AMER-ITS-SA-Scanner   \n",
       "172              BR                  Express   AMER-ITS-BR-FieldSupport   \n",
       "115              BR                      ITS     AMER-ITS-BR-EUS-BRAZIL   \n",
       "80    MY - Malaysia                      ITS  AMER-ITS-AR-EUS-Argentina   \n",
       "25    MY - Malaysia                      ITS      AMER-ITS-CL-EUS-Chile   \n",
       "\n",
       "                        assigned_to            assigned_to.email  ...  \\\n",
       "3    Alexsandro Paulino De Oliveira  alexsandro.oliveira@dhl.com  ...   \n",
       "10           Carlos Alberto Montana       carlos.montana@dhl.com  ...   \n",
       "172      Sergio Jose Ribeiro Junior     s.ribeiro_junior@dhl.com  ...   \n",
       "115      Luiz Lourenco Pereira Neto        Luiz.Lourenco@dhl.com  ...   \n",
       "80           Gustavo Jorge Estrella     Gustavo.Estrella@dhl.com  ...   \n",
       "25          Cristian Escobar Olguin     cristian.escobar@dhl.com  ...   \n",
       "\n",
       "    cmdb_ci.vendor     cmdb_ci.model_id cmdb_ci.serial_number  \\\n",
       "3              NaN       Honeywell CK65            21061D83DB   \n",
       "10             NaN       Honeywell CK65            24012D8079   \n",
       "172           Dell   Dell Latitude 5420               HTGMLM3   \n",
       "115            NaN                  NaN                   NaN   \n",
       "80             NaN                  NaN                   NaN   \n",
       "25             NaN  HP Elite SFF 600 G9            MXL4113JCY   \n",
       "\n",
       "                                            close_code  \\\n",
       "3                     Not Resolved (Withdrawn by User)   \n",
       "10                    Not Resolved (Withdrawn by User)   \n",
       "172                                           Resolved   \n",
       "115  Not Resolved (Conflicts with Standards and Pol...   \n",
       "80                                            Resolved   \n",
       "25                                            Resolved   \n",
       "\n",
       "                                           close_notes reopen_count  \\\n",
       "3    Tentado contato com colaborador(a), porém sem ...            0   \n",
       "10   Orientado colaborador sobre o uso e criação do...            0   \n",
       "172  Onsite _ Visto que a máquina estava fora do do...            0   \n",
       "115  A equipe de segurança da informação recebeu ti...            0   \n",
       "80   Secureboot activo en ambos equipos de acuerdo ...            0   \n",
       "25   Security Boot no fue desactivado por usuario.\\...            0   \n",
       "\n",
       "                          u_spl_closure_code reassignment_count  \\\n",
       "3                         AMER-TM-Android_RF                  1   \n",
       "10                            AMER-TM-Telnet                  1   \n",
       "172  AMER-SW-NonStdApplications_Installation                  1   \n",
       "115                      AMER-HW-Motherboard                  1   \n",
       "80                          AMER-EUS-Unknown                  1   \n",
       "25                       AMER-OT-BIOS_UPDATE                  1   \n",
       "\n",
       "    u_reassign_reason u_vendors  \n",
       "3                 NaN       NaN  \n",
       "10                NaN       NaN  \n",
       "172               NaN       NaN  \n",
       "115               NaN       NaN  \n",
       "80                NaN       NaN  \n",
       "25                NaN       NaN  \n",
       "\n",
       "[6 rows x 35 columns]"
      ]
     },
     "execution_count": 33,
     "metadata": {},
     "output_type": "execute_result"
    }
   ],
   "source": [
    "# 1.2 - Report listing the incident type filtered as \"Request for ...\" and the impact filtered as different of \"None / Minor\"\n",
    "\n",
    "df_1_2 = df_sideA[(df_sideA['u_incident_type'].str.startswith(\"Request for\", na=False)) & (df_sideA['impact'] != \"None / Minor\")].sort_values(by=['u_impacted_area', 'u_impacted_business_unit', 'assignment_group', 'assigned_to'])\n",
    "#df_1_2 = customising_order_of_columns(df_1_2, 'incident_type_impact_view') \n",
    "df_1_2.head(20) #.to_html('./src/output/html_element_1_2.html', index=False)\n",
    "\n"
   ]
  },
  {
   "cell_type": "markdown",
   "metadata": {},
   "source": [
    "### 2.0 - Heatmap for correlation analysis between Impacted Service and Impacted BU"
   ]
  },
  {
   "cell_type": "code",
   "execution_count": null,
   "metadata": {},
   "outputs": [],
   "source": [
    "# 2.0 - Heatmap for correlation analysis between Impacted Service and Impacted BU.\n",
    "cmap = LinearSegmentedColormap.from_list(\"custom_cmap\",[\"#DCDCDC\", \"#D40511\"])\n",
    "cross_tab = pd.crosstab(df['Service'], df['BU'])\n",
    "plt.figure(figsize=(8, 6))\n",
    "sns.heatmap(cross_tab, annot=True, cmap=cmap, center=30, linewidths=0.5, fmt=\".0f\")\n",
    "plt.title('Impacted Service vs Impacted BU - Heatmap')\n",
    "plt.xlabel('Impacted BU').set_animated(True)\n",
    "plt.ylabel('Impacted Service')\n",
    "plt.xticks(rotation=45)\n",
    "plt.tight_layout()\n",
    "#plt.savefig('./src/output/html_element_2_0.png', dpi=150)\n",
    "plt.show()"
   ]
  },
  {
   "cell_type": "code",
   "execution_count": 25,
   "metadata": {},
   "outputs": [
    {
     "ename": "NameError",
     "evalue": "name 'df' is not defined",
     "output_type": "error",
     "traceback": [
      "\u001b[31m---------------------------------------------------------------------------\u001b[39m",
      "\u001b[31mNameError\u001b[39m                                 Traceback (most recent call last)",
      "\u001b[36mCell\u001b[39m\u001b[36m \u001b[39m\u001b[32mIn[25]\u001b[39m\u001b[32m, line 3\u001b[39m\n\u001b[32m      1\u001b[39m \u001b[38;5;66;03m# 2.1 - Report that lists the incidents in which the Service does not contain the word \"...LATAM\".\u001b[39;00m\n\u001b[32m----> \u001b[39m\u001b[32m3\u001b[39m df_2_1 = \u001b[43mdf\u001b[49m[~df[\u001b[33m'\u001b[39m\u001b[33mService\u001b[39m\u001b[33m'\u001b[39m].str.contains(\u001b[33m\"\u001b[39m\u001b[33m LATAM\u001b[39m\u001b[33m\"\u001b[39m, regex=\u001b[38;5;28;01mFalse\u001b[39;00m, na=\u001b[38;5;28;01mFalse\u001b[39;00m)].sort_values(by=[\u001b[33m'\u001b[39m\u001b[33mArea\u001b[39m\u001b[33m'\u001b[39m, \u001b[33m'\u001b[39m\u001b[33mBU\u001b[39m\u001b[33m'\u001b[39m, \u001b[33m'\u001b[39m\u001b[33mAssignment_Group\u001b[39m\u001b[33m'\u001b[39m, \u001b[33m'\u001b[39m\u001b[33mAssigned\u001b[39m\u001b[33m'\u001b[39m])\n\u001b[32m      4\u001b[39m \u001b[38;5;66;03m#df_2_1 = customising_order_of_columns(df_2_1, 'incident_type_impact_view')\u001b[39;00m\n\u001b[32m      6\u001b[39m df_2_1.head(\u001b[32m20\u001b[39m) \u001b[38;5;66;03m#.to_html('./src/output/html_element_2_1.html', index=False)   \u001b[39;00m\n",
      "\u001b[31mNameError\u001b[39m: name 'df' is not defined"
     ]
    }
   ],
   "source": [
    "# 2.1 - Report that lists the incidents in which the Service does not contain the word \"...LATAM\".\n",
    "\n",
    "df_2_1 = df[~df['Service'].str.contains(\" LATAM\", regex=False, na=False)].sort_values(by=['Area', 'BU', 'Assignment_Group', 'Assigned'])\n",
    "#df_2_1 = customising_order_of_columns(df_2_1, 'incident_type_impact_view')\n",
    "\n",
    "df_2_1.head(20) #.to_html('./src/output/html_element_2_1.html', index=False)   \n",
    "\n"
   ]
  },
  {
   "cell_type": "code",
   "execution_count": null,
   "metadata": {},
   "outputs": [],
   "source": [
    "# 2.2 - Report that lists the incidents in which the Service is \"DESKTOP SUPPORT DSC LATAM\" and the BU is different from \"DSC\".\n",
    "\n",
    "df_2_2 = df[(df['Service'] == \"DESKTOP SUPPORT DSC LATAM\") & (df['BU'] != \"DSC\")].sort_values(by=['Area', 'BU', 'Assignment_Group', 'Assigned'])\n",
    "df_2_2 = customising_order_of_columns(df_2_2, 'incident_type_impact_view')\n",
    "df_2_2.head(20) #.to_html('./src/output/html_element_2_2.html', index=False)   \n",
    "\n",
    "\n"
   ]
  },
  {
   "cell_type": "code",
   "execution_count": null,
   "metadata": {},
   "outputs": [],
   "source": [
    "# 2.3 - Report that lists the incidents in which the Service is \"DESKTOP SUPPORT EXP LATAM\" and the BU is different from \"Express\".\n",
    "\n",
    "df_2_3 = df[(df['Service'] == \"DESKTOP SUPPORT EXP LATAM\") & (df['BU'] != \"Express\")].sort_values(by=['Area', 'BU', 'Assignment_Group', 'Assigned'])\n",
    "df_2_3 = customising_order_of_columns(df_2_3, 'incident_type_impact_view')\n",
    "df_2_3.head(20) #.to_html('./src/output/html_element_2_3.html', index=False)   \n"
   ]
  },
  {
   "cell_type": "markdown",
   "metadata": {},
   "source": [
    "### 3.0 - Heatmap for correlation analysis between Assigned Group and Impacted Service"
   ]
  },
  {
   "cell_type": "code",
   "execution_count": null,
   "metadata": {},
   "outputs": [],
   "source": [
    "# 3.0 - Heatmap for correlation analysis between Assigned Group and Impacted Service\n",
    "\n",
    "cmap = LinearSegmentedColormap.from_list(\"custom_cmap\",[ '#EBEBEB', '#DCDCDC', '#FFCC00'])\n",
    "\n",
    "grouped_data = df.groupby(['Service', 'Assignment_Group']).size().unstack(fill_value=0)\n",
    "grouped_data = grouped_data.sort_values(by='Service', ascending=False)\n",
    "\n",
    "plt.figure(figsize=(8, 6))\n",
    "sns.heatmap(grouped_data, annot=True, cmap=cmap, center=10, linewidths=0.5, fmt=\".0f\")\n",
    "\n",
    "plt.title('Heatmap of Assigned Group VS Impacted Service').set_weight('bold')\n",
    "plt.xlabel('Assigned Group', labelpad=10)\n",
    "plt.ylabel('Impacted Service', labelpad=10).set_animated(True)\n",
    "plt.xticks(rotation=45)\n",
    "plt.tight_layout()\n",
    "\n",
    "ax = plt.gca()\n",
    "for tick in ax.get_xticklabels():\n",
    "    tick.set_horizontalalignment('right')\n",
    "    tick.set_x(tick.get_position()[0] - 1)\n",
    "\n",
    "#plt.savefig('./src/output/html_element_3_0.png', dpi=150)\n",
    "plt.show()"
   ]
  },
  {
   "cell_type": "code",
   "execution_count": null,
   "metadata": {
    "vscode": {
     "languageId": "ruby"
    }
   },
   "outputs": [],
   "source": [
    "# 3.1 - Report listing the number of incidents by Area, BU and Assigned Group\n",
    "\n",
    "df_3_1 = df.groupby(['Area', 'BU', 'Assigned']).agg(Number_Count=('Number', 'count')).reset_index()\n",
    "df_3_1.index = df_3_1.index + 1\n",
    "df_3_1 = df_3_1.sort_values(['Area', 'Assigned', 'BU'])\n",
    "df_3_1.head(len(df)) #.to_html('./src/output/html_element_3_1.html')\n",
    "\n",
    "\n"
   ]
  },
  {
   "cell_type": "code",
   "execution_count": null,
   "metadata": {
    "vscode": {
     "languageId": "ruby"
    }
   },
   "outputs": [],
   "source": [
    "# 3.2 - Report listing the number of incidents by Area, BU and Assignment_Group \n",
    "\n",
    "df_3_2 = df.groupby(['Area', 'BU', 'Assignment_Group']).agg(Number_Count=('Number', 'count')).reset_index()\n",
    "df_3_2.index = df_3_2.index + 1\n",
    "df_3_2 = df_3_2.sort_values(['Area', 'Assignment_Group', 'BU'])\n",
    "df_3_2.head(len(df)) #.to_html('./src/output/html_element_3_2.html')\n"
   ]
  },
  {
   "cell_type": "markdown",
   "metadata": {},
   "source": [
    "### 4.0 - The field \"Configuration Item\" as Null value or \"NoRecord\". "
   ]
  },
  {
   "cell_type": "code",
   "execution_count": null,
   "metadata": {},
   "outputs": [],
   "source": [
    "# 4.0 - The Configuration Item field as ‘(empty)’, ‘NoRecord’ or other value.. \n",
    "\n",
    "df['CI_CMDB_Status'] = df['CI_CMDB'].apply(lambda x: 'NoRecord' if x == 'NORECORD' else ('(empty)' if x == '(empty)' else 'Others'))\n",
    "config_item_counts = df['CI_CMDB_Status'].value_counts()\n",
    "custom_colors = ['#FFCC00', '#AFAFAF', '#D40511'] \n",
    "plt.figure(figsize=(8, 6))\n",
    "sns.barplot(x=config_item_counts.index, y=config_item_counts.values, hue=config_item_counts.index, palette=custom_colors, legend=False)\n",
    "plt.title('Distribution of \"Configuration Item\"', fontsize=16)\n",
    "plt.xlabel(\"Configuration Item Data's\", fontsize=11)\n",
    "plt.ylabel('Count', fontsize=11)\n",
    "for i, value in enumerate(config_item_counts.values):\n",
    "    plt.text(i, value + 1, str(value), ha='center', va='bottom')\n",
    "plt.tight_layout()\n",
    "#plt.savefig('./src/output/html_element_4_0.png', dpi=150)\n",
    "plt.show()"
   ]
  },
  {
   "cell_type": "code",
   "execution_count": null,
   "metadata": {},
   "outputs": [],
   "source": [
    "# 4.1 Report listing the incidents in which the Configuration Item is null.\n",
    "\n",
    "df_4_1 = df[df['CI_CMDB'] == '(empty)']\n",
    "df_4_1 = customising_order_of_columns(df_4_1, 'ci_view').sort_values(by=['Area', 'BU', 'Service', 'Assigned'])\n",
    "df_4_1.head(20) #.to_html('./src/output/html_element_4_1.html', index=False)\n",
    "\n"
   ]
  },
  {
   "cell_type": "code",
   "execution_count": null,
   "metadata": {},
   "outputs": [],
   "source": [
    "# 4.2 Report listing the incidents in which the Configuration Item is null.\n",
    "\n",
    "df_4_2 = df[df['CI_CMDB'] == 'NORECORD']\n",
    "df_4_2 = customising_order_of_columns(df_4_2, 'ci_view').sort_values(by=['Area', 'BU', 'Service', 'Assigned'])\n",
    "df_4_2.head(20) #.to_html('./src/output/html_element_4_2.html', index=False)\n"
   ]
  },
  {
   "cell_type": "markdown",
   "metadata": {},
   "source": [
    "### 5.0 - Timeline of Incident Status: Status categories as ('Pending Supplier', 'Pending Customer', and 'In Progress') by last update."
   ]
  },
  {
   "cell_type": "code",
   "execution_count": null,
   "metadata": {},
   "outputs": [],
   "source": [
    "# 5.0 - Timeline of Incident Status: Status categories as ('Pending Supplier', 'Pending Customer', and 'In Progress') by last update.\n",
    "\n",
    "# Plot the number of incidents by date for each state\n",
    "df['Updated'] = pd.to_datetime(df['Updated'])\n",
    "\n",
    "# Filtrar os dados para os estados \"Pending Supplier\" e \"Pending Customer\"\n",
    "pending_supplier_df = df[df['Incident_State'] == \"Pending Supplier\"]\n",
    "pending_customer_df = df[df['Incident_State'] == \"Pending Customer\"]\n",
    "in_progress_df      = df[df['Incident_State'] == \"In Progress\"]\n",
    "\n",
    "# Contar a quantidade de incidentes por dia para cada estado\n",
    "pending_supplier_counts = pending_supplier_df.groupby(pending_supplier_df['Updated'].dt.date).size().sort_index()\n",
    "pending_customer_counts = pending_customer_df.groupby(pending_customer_df['Updated'].dt.date).size().sort_index()\n",
    "in_progress_counts      = in_progress_df.groupby(in_progress_df['Updated'].dt.date).size().sort_index()\n",
    "\n",
    "\n",
    "# Criar o gráfico de linhas\n",
    "plt.figure(figsize=(10, 6))\n",
    "plt.plot(pending_supplier_counts.index, pending_supplier_counts.values, label='Pending Supplier', marker='o', color='red')\n",
    "plt.plot(pending_customer_counts.index, pending_customer_counts.values, label='Pending Customer', marker='o', color='orange')\n",
    "plt.plot(in_progress_counts.index, in_progress_counts.values, label='In Progress', marker='o', color='green')\n",
    "\n",
    "plt.title('Incidents by Date of Updated (In Progress, Pending Supplier, Pending Customer)')\n",
    "plt.xlabel('Date')\n",
    "plt.ylabel('Count of Incidents')\n",
    "plt.legend()\n",
    "plt.grid(True)\n",
    "plt.xticks(rotation=45)\n",
    "\n",
    "# Ajustar a escala do eixo y para ir de 1 em 1\n",
    "max_count = max(pending_supplier_counts.max(), pending_customer_counts.max(), in_progress_counts.max())\n",
    "plt.yticks(range(0, max_count + 1, 1))\n",
    "\n",
    "plt.tight_layout()\n",
    "#plt.savefig('./output_data/html_element_5_0.png', dpi=150)\n",
    "plt.show()\n",
    "\n"
   ]
  },
  {
   "cell_type": "code",
   "execution_count": null,
   "metadata": {},
   "outputs": [],
   "source": [
    "# 5.1 - Report listing the incidents in which the State is \"Pending Supplier\" and the Supplier is equal '(empty)'\n",
    "\n",
    "df_5_1 = df[(df['Incident_State'] == \"Pending Supplier\") & (df['Supplier'] == \"(empty)\")].sort_values(by=['Area', 'BU', 'Service', 'CI_Model_ID'])\n",
    "df_5_1 = customising_order_of_columns(df_5_1, 'supplier_view')\n",
    "df_5_1.head(20) #.to_html('./src/output/html_element_5_1.html', index=False)\n"
   ]
  },
  {
   "cell_type": "code",
   "execution_count": null,
   "metadata": {},
   "outputs": [],
   "source": [
    "# 5.2 - Report listing the incidents in which the State is \"Pending Supplier\" and the Supplier is not '(empty)'\n",
    "\n",
    "df_5_2 = df[(df['Incident_State'] == \"Pending Supplier\") & (df['Supplier'] != \"(empty)\")].sort_values(by=['Area', 'BU', 'Service', 'Supplier', 'CI_Model_ID'])\n",
    "df_5_2 = customising_order_of_columns(df_5_2, 'supplier_view')\n",
    "df_5_2.head(20) #.to_html('./src/output/html_element_5_2.html', index=False)\n",
    "\n"
   ]
  },
  {
   "cell_type": "markdown",
   "metadata": {},
   "source": [
    "### 6.0 - SLA Business Percentage by Impacted Area, Business Unit, and Assignment Group "
   ]
  },
  {
   "cell_type": "code",
   "execution_count": null,
   "metadata": {},
   "outputs": [],
   "source": [
    "\"\"\"\n",
    "6.0 - SLA Business Percentage by Impacted Area, Business Unit, and Assignment Group\n",
    "\"\"\"\n",
    "# Extract the relevant columns\n",
    "df_filtered = df[['SLA_Business_Percentage', 'Area', 'BU', 'Assignment_Group']]\n",
    "\n",
    "# Group by 'Impacted Area', 'Impacted Business Unit' and 'Assignment Group' and calculate the average 'Resolution SLA Percentage'\n",
    "df_grouped = df_filtered.groupby(['Area', 'BU', 'Assignment_Group']).mean().reset_index()\n",
    "\n",
    "# Plot the data as a bar chart\n",
    "plt.figure(figsize=(9, 6))\n",
    "df_grouped.pivot(index='Assignment_Group', columns=['Area', 'BU'], values='SLA_Business_Percentage').plot(kind='bar', ax=plt.gca())\n",
    "\n",
    "plt.title('Average SLA by Assignment Group, Impacted Area, and Business Unit')\n",
    "plt.xlabel('Assignment Group').set_animated(True)   # Set the x-axis label\n",
    "plt.ylabel('Resolution SLA Average in Percent (%)')\n",
    "plt.legend(title='Impacted Area / Impacted BU')\n",
    "plt.xticks(rotation=45, ha='right')\n",
    "plt.grid(axis='y', linestyle='--', alpha=0.7)\n",
    "plt.ylim(0, 100)\n",
    "plt.tight_layout()\n",
    "\n",
    "# Show the graph\n",
    "plt.show()"
   ]
  },
  {
   "cell_type": "code",
   "execution_count": null,
   "metadata": {},
   "outputs": [],
   "source": [
    "\"\"\"\n",
    "6.1 - Reporting describing the average SLA Business Percentage by Impacted Area, Business Unit, and Assignment Group\n",
    "\"\"\"\n",
    "\n",
    "# Group by 'Impacted Area', 'Impacted Business Unit' and 'Assignment Group' and calculate the average 'Resolution SLA Percentage'\n",
    "df_6_1 = df.groupby(['Area', 'BU', 'Assignment_Group'])['SLA_Business_Percentage'].agg(\n",
    "    Count='count',\n",
    "    Mean='mean',\n",
    "    Std='std',\n",
    "    Min='min',\n",
    "    q25=lambda x: x.quantile(0.25),\n",
    "    Median='median',\n",
    "    q75=lambda x: x.quantile(0.75),\n",
    "    Max='max',\n",
    "    Var='var',\n",
    "    Mode=lambda x: x.mode().iloc[0] if not x.mode().empty else None\n",
    ")\n",
    "print(df_6_1)\n"
   ]
  },
  {
   "cell_type": "code",
   "execution_count": null,
   "metadata": {},
   "outputs": [],
   "source": [
    "\"\"\"\n",
    "6.2 - Reporting describing the average SLA Business Percentage by Impacted Area, Business Unit, and Service\n",
    "\"\"\"\n",
    "\n",
    "# Group by 'Impacted Area', 'Impacted Business Unit' and 'Service' and calculate the average 'Resolution SLA Percentage'\n",
    "df_6_2 = df.groupby(['Area', 'BU','Service'])['SLA_Business_Percentage'].agg(\n",
    "    Count='count',\n",
    "    Mean='mean',\n",
    "    Std='std',\n",
    "    Min='min',\n",
    "    q25=lambda x: x.quantile(0.25),\n",
    "    Median='median',\n",
    "    q75=lambda x: x.quantile(0.75),\n",
    "    Max='max',\n",
    "    Var='var',\n",
    "    Mode=lambda x: x.mode().iloc[0] if not x.mode().empty else None\n",
    ")\n",
    "print(df_6_2)\n"
   ]
  },
  {
   "cell_type": "markdown",
   "metadata": {},
   "source": [
    "## Other"
   ]
  },
  {
   "cell_type": "code",
   "execution_count": null,
   "metadata": {},
   "outputs": [],
   "source": [
    "\"\"\"\n",
    "??? - SLA Business Percentage by Impacted Area, Business Unit, and Assignment Group\n",
    "\"\"\"\n",
    "df_filtered = df[['SLA_Business_Percentage', 'Area', 'BU', 'Assignment_Group']]\n",
    "\n",
    "df_mode = df_filtered.groupby(['Area', 'BU', 'Assignment_Group'])['SLA_Business_Percentage'].agg(lambda x: x.mode().iloc[0] if not x.mode().empty else None).reset_index()\n",
    "\n",
    "df_mode = df_mode.sort_values(by=['Area', 'BU', 'Assignment_Group'])\n",
    "df_mode\n"
   ]
  },
  {
   "cell_type": "code",
   "execution_count": null,
   "metadata": {},
   "outputs": [],
   "source": [
    "# Converter a coluna de data para datetime\n",
    "df['Opened'] = pd.to_datetime(df['Opened'])\n",
    "\n",
    "# Agrupar por mês e calcular a média do percentual de SLA de resolução\n",
    "df['month'] = df['Opened'].dt.to_period('M')\n",
    "df_monthly = df.groupby('month')['SLA_Business_Percentage'].mean().reset_index()\n",
    "\n",
    "# Plotar o gráfico de linha\n",
    "plt.figure(figsize=(10, 6))\n",
    "plt.plot(df_monthly['month'].astype(str), df_monthly['SLA_Business_Percentage'], marker='o')\n",
    "plt.xlabel('Month')\n",
    "plt.ylabel('SLA Resolution Percentage')\n",
    "plt.title('Monthly Average SLA Resolution Percentage')\n",
    "plt.xticks(rotation=45)\n",
    "plt.tight_layout()\n",
    "plt.show()\n"
   ]
  },
  {
   "cell_type": "code",
   "execution_count": null,
   "metadata": {},
   "outputs": [],
   "source": [
    "# Daily Measurement\n",
    "\n",
    "# Converter a coluna de data para datetime\n",
    "df['Opened'] = pd.to_datetime(df['Opened'])\n",
    "\n",
    "# Agrupar por dia e calcular a média do percentual de SLA de resolução\n",
    "df['day'] = df['Opened'].dt.to_period('D')\n",
    "df_daily = df.groupby('day')['SLA_Business_Percentage'].mean().reset_index()\n",
    "\n",
    "# Plotar o gráfico de linha\n",
    "plt.figure(figsize=(10, 6))\n",
    "plt.plot(df_daily['day'].astype(str), df_daily['SLA_Business_Percentage'], marker='o')\n",
    "plt.xlabel('Day')\n",
    "plt.ylabel('SLA Resolution Percentage')\n",
    "plt.title('Daily Average SLA Resolution Percentage')\n",
    "plt.xticks(rotation=45)\n",
    "plt.tight_layout()\n",
    "plt.show()"
   ]
  },
  {
   "cell_type": "code",
   "execution_count": null,
   "metadata": {},
   "outputs": [],
   "source": [
    "# Converter a coluna de data para datetime\n",
    "df['Opened'] = pd.to_datetime(df['Opened'])\n",
    "\n",
    "# Agrupar por dia e calcular a média e a máxima do percentual de SLA de resolução\n",
    "df['day'] = df['Opened'].dt.to_period('D')\n",
    "df_daily = df.groupby('day')['SLA_Business_Percentage'].agg(['mean', 'max']).reset_index()\n",
    "\n",
    "# Plotar o gráfico de linha\n",
    "plt.figure(figsize=(10, 6))\n",
    "plt.plot(df_daily['day'].astype(str), df_daily['mean'], marker='o', label='Mean')\n",
    "plt.plot(df_daily['day'].astype(str), df_daily['max'], marker='x', label='Max')\n",
    "plt.xlabel('Day')\n",
    "plt.ylabel('SLA Resolution Percentage')\n",
    "plt.title('Daily SLA Resolution Percentage (Mean and Max)')\n",
    "plt.xticks(rotation=45)\n",
    "plt.legend()\n",
    "plt.tight_layout()\n",
    "plt.show()"
   ]
  },
  {
   "cell_type": "code",
   "execution_count": null,
   "metadata": {},
   "outputs": [],
   "source": [
    "# Converter a coluna de data para datetime\n",
    "df['Opened'] = pd.to_datetime(df['Opened'])\n",
    "\n",
    "# Agrupar por dia e Assignment_Group e calcular a média e a máxima do percentual de SLA de resolução\n",
    "df['day'] = df['Opened'].dt.to_period('D')\n",
    "df_daily = df.groupby(['day', 'Assignment_Group'])['SLA_Business_Percentage'].agg(['mean', 'max']).reset_index()\n",
    "\n",
    "# Plotar o gráfico de linha para cada Assignment_Group\n",
    "plt.figure(figsize=(10, 6))\n",
    "for group in df_daily['Assignment_Group'].unique():\n",
    "    group_data = df_daily[df_daily['Assignment_Group'] == group]\n",
    "    plt.plot(group_data['day'].astype(str), group_data['mean'], marker='o', label=f'{group} Mean')\n",
    "    plt.plot(group_data['day'].astype(str), group_data['max'], marker='x', label=f'{group} Max')\n",
    "\n",
    "plt.xlabel('Day')\n",
    "plt.ylabel('SLA Resolution Percentage')\n",
    "plt.title('Daily SLA Resolution Percentage (Mean and Max) by Assignment Group')\n",
    "plt.xticks(rotation=45)\n",
    "plt.legend()\n",
    "plt.tight_layout()\n",
    "plt.show()"
   ]
  },
  {
   "cell_type": "code",
   "execution_count": null,
   "metadata": {},
   "outputs": [],
   "source": [
    "# Weekly Measurement\n",
    "\n",
    "# Converter a coluna de data para datetime\n",
    "df['Opened'] = pd.to_datetime(df['Opened'])\n",
    "\n",
    "# Agrupar por semana e calcular a média do percentual de SLA de resolução\n",
    "df['week'] = df['Opened'].dt.to_period('W')\n",
    "df_weekly = df.groupby('week')['SLA_Business_Percentage'].mean().reset_index()\n",
    "\n",
    "# Plotar o gráfico de linha\n",
    "plt.figure(figsize=(10, 6))\n",
    "plt.plot(df_weekly['week'].astype(str), df_weekly['SLA_Business_Percentage'], marker='o')\n",
    "plt.xlabel('Week')\n",
    "plt.ylabel('SLA Resolution Percentage')\n",
    "plt.title('Weekly Average SLA Resolution Percentage')\n",
    "plt.xticks(rotation=45)\n",
    "plt.tight_layout()\n",
    "plt.show()"
   ]
  },
  {
   "cell_type": "code",
   "execution_count": null,
   "metadata": {},
   "outputs": [],
   "source": [
    "# Plotar o box plot\n",
    "plt.figure(figsize=(12, 8))\n",
    "df.boxplot(column='SLA_Business_Percentage', by=['Area','BU'], grid=True)\n",
    "plt.xlabel('Impacted Area')\n",
    "plt.ylabel('SLA Resolution Percentage')\n",
    "plt.title('SLA Resolution Percentage by Impacted Area')\n",
    "plt.suptitle('')\n",
    "plt.xticks(rotation=45, ha='right')\n",
    "\n",
    "plt.tight_layout()\n",
    "plt.show()\n"
   ]
  },
  {
   "cell_type": "code",
   "execution_count": null,
   "metadata": {},
   "outputs": [],
   "source": [
    "# Calcular estatísticas descritivas\n",
    "summary_table = df.groupby(['Area', 'BU','Assignment_Group'])['SLA_Business_Percentage'].describe()\n",
    "#print(summary_table)\n",
    "summary_table\n",
    "\n"
   ]
  },
  {
   "cell_type": "markdown",
   "metadata": {},
   "source": [
    "Para melhorar a análise e obter insights mais detalhados, você pode combinar várias opções e técnicas com o cálculo de estatísticas descritivas. Aqui estão algumas sugestões:"
   ]
  },
  {
   "cell_type": "code",
   "execution_count": null,
   "metadata": {},
   "outputs": [],
   "source": [
    "# Plotar o box plot\n",
    "plt.figure(figsize=(12, 8))\n",
    "df.boxplot(column='SLA_Business_Percentage', by=['Area', 'Assignment_Group'], grid=False)\n",
    "plt.xlabel('Impacted Area and Assignment Group')\n",
    "plt.ylabel('SLA Resolution Percentage')\n",
    "plt.title('SLA Resolution Percentage by Impacted Area and Assignment Group')\n",
    "plt.suptitle('')\n",
    "plt.xticks(rotation=45, ha='right')\n",
    "plt.tight_layout()\n",
    "plt.show()\n"
   ]
  },
  {
   "cell_type": "code",
   "execution_count": null,
   "metadata": {},
   "outputs": [],
   "source": [
    "# Criar uma tabela pivot para o heatmap\n",
    "pivot_table = df.pivot_table(values='SLA_Business_Percentage', index=['Area','BU'], columns='Assignment_Group', aggfunc='mean')\n",
    "\n",
    "# Plotar o heatmap\n",
    "plt.figure(figsize=(14, 10))\n",
    "sns.heatmap(pivot_table, annot=True, cmap='coolwarm', linewidths=.5)\n",
    "plt.title('Heatmap of SLA Resolution Percentage by Impacted Area and Assignment Group')\n",
    "plt.xticks(rotation=45, ha='right')\n",
    "plt.show()\n"
   ]
  },
  {
   "cell_type": "code",
   "execution_count": null,
   "metadata": {},
   "outputs": [],
   "source": [
    "# Identificar outliers usando o IQR\n",
    "Q1 = df['SLA_Business_Percentage'].quantile(0.25)\n",
    "Q3 = df['SLA_Business_Percentage'].quantile(0.75)\n",
    "IQR = Q3 - Q1\n",
    "outliers = df[(df['SLA_Business_Percentage'] < (Q1 - 1.5 * IQR)) | (df['SLA_Business_Percentage'] > (Q3 + 1.5 * IQR))]\n",
    "\n",
    "#print(outliers)\n",
    "outliers.head(5)\n",
    "\n"
   ]
  },
  {
   "cell_type": "code",
   "execution_count": null,
   "metadata": {},
   "outputs": [],
   "source": [
    "# Segmentar por 'Área Impactada' e 'Unidade de Negócio Impactada'\n",
    "segment_analysis = df.groupby(['Area', 'BU', 'Service'])['SLA_Business_Percentage'].describe()\n",
    "#print(segment_analysis)\n",
    "segment_analysis"
   ]
  }
 ],
 "metadata": {
  "kernelspec": {
   "display_name": ".venv",
   "language": "python",
   "name": "python3"
  },
  "language_info": {
   "codemirror_mode": {
    "name": "ipython",
    "version": 3
   },
   "file_extension": ".py",
   "mimetype": "text/x-python",
   "name": "python",
   "nbconvert_exporter": "python",
   "pygments_lexer": "ipython3",
   "version": "3.13.3"
  }
 },
 "nbformat": 4,
 "nbformat_minor": 2
}
